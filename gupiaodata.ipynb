{
 "cells": [
  {
   "cell_type": "code",
   "execution_count": 97,
   "metadata": {},
   "outputs": [],
   "source": [
    "import pandas as pd\n",
    "import os\n",
    "key=pd.read_table(\"duiying.txt\",sep=\"\\t\",engine=\"python\")\n",
    "key['time']=key['time'].astype(str).str.strip()\n",
    "key['stocknumber']=key['stocknumber'].astype(str).str.strip()"
   ]
  },
  {
   "cell_type": "code",
   "execution_count": 98,
   "metadata": {},
   "outputs": [],
   "source": [
    "pre=key.loc[:173,]\n",
    "beh=key.loc[174:,]"
   ]
  },
  {
   "cell_type": "code",
   "execution_count": 99,
   "metadata": {},
   "outputs": [
    {
     "name": "stderr",
     "output_type": "stream",
     "text": [
      "E:\\anaconda\\lib\\site-packages\\ipykernel_launcher.py:1: SettingWithCopyWarning: \n",
      "A value is trying to be set on a copy of a slice from a DataFrame.\n",
      "Try using .loc[row_indexer,col_indexer] = value instead\n",
      "\n",
      "See the caveats in the documentation: http://pandas.pydata.org/pandas-docs/stable/indexing.html#indexing-view-versus-copy\n",
      "  \"\"\"Entry point for launching an IPython kernel.\n",
      "E:\\anaconda\\lib\\site-packages\\ipykernel_launcher.py:2: SettingWithCopyWarning: \n",
      "A value is trying to be set on a copy of a slice from a DataFrame.\n",
      "Try using .loc[row_indexer,col_indexer] = value instead\n",
      "\n",
      "See the caveats in the documentation: http://pandas.pydata.org/pandas-docs/stable/indexing.html#indexing-view-versus-copy\n",
      "  \n"
     ]
    }
   ],
   "source": [
    "pre['year']=pre['time'].str.slice(start=0,stop=4).astype(int)-1\n",
    "beh['year']=beh['time'].str.slice(start=0,stop=4).astype(int)-1"
   ]
  },
  {
   "cell_type": "code",
   "execution_count": 100,
   "metadata": {},
   "outputs": [
    {
     "name": "stderr",
     "output_type": "stream",
     "text": [
      "E:\\anaconda\\lib\\site-packages\\ipykernel_launcher.py:1: SettingWithCopyWarning: \n",
      "A value is trying to be set on a copy of a slice from a DataFrame.\n",
      "Try using .loc[row_indexer,col_indexer] = value instead\n",
      "\n",
      "See the caveats in the documentation: http://pandas.pydata.org/pandas-docs/stable/indexing.html#indexing-view-versus-copy\n",
      "  \"\"\"Entry point for launching an IPython kernel.\n",
      "E:\\anaconda\\lib\\site-packages\\ipykernel_launcher.py:2: SettingWithCopyWarning: \n",
      "A value is trying to be set on a copy of a slice from a DataFrame.\n",
      "Try using .loc[row_indexer,col_indexer] = value instead\n",
      "\n",
      "See the caveats in the documentation: http://pandas.pydata.org/pandas-docs/stable/indexing.html#indexing-view-versus-copy\n",
      "  \n"
     ]
    }
   ],
   "source": [
    "pre['year']=pre['year'].astype(str)+'-12-31'\n",
    "beh['year']=beh['year'].astype(str)+'-12-31'"
   ]
  },
  {
   "cell_type": "code",
   "execution_count": 101,
   "metadata": {},
   "outputs": [
    {
     "data": {
      "text/html": [
       "<div>\n",
       "<style scoped>\n",
       "    .dataframe tbody tr th:only-of-type {\n",
       "        vertical-align: middle;\n",
       "    }\n",
       "\n",
       "    .dataframe tbody tr th {\n",
       "        vertical-align: top;\n",
       "    }\n",
       "\n",
       "    .dataframe thead th {\n",
       "        text-align: right;\n",
       "    }\n",
       "</style>\n",
       "<table border=\"1\" class=\"dataframe\">\n",
       "  <thead>\n",
       "    <tr style=\"text-align: right;\">\n",
       "      <th></th>\n",
       "      <th>stocknumber</th>\n",
       "      <th>time</th>\n",
       "      <th>year</th>\n",
       "    </tr>\n",
       "  </thead>\n",
       "  <tbody>\n",
       "    <tr>\n",
       "      <th>0</th>\n",
       "      <td>600088</td>\n",
       "      <td>20070406</td>\n",
       "      <td>2006-12-31</td>\n",
       "    </tr>\n",
       "    <tr>\n",
       "      <th>1</th>\n",
       "      <td>607</td>\n",
       "      <td>20070421</td>\n",
       "      <td>2006-12-31</td>\n",
       "    </tr>\n",
       "    <tr>\n",
       "      <th>2</th>\n",
       "      <td>600320</td>\n",
       "      <td>20070519</td>\n",
       "      <td>2006-12-31</td>\n",
       "    </tr>\n",
       "  </tbody>\n",
       "</table>\n",
       "</div>"
      ],
      "text/plain": [
       "  stocknumber      time        year\n",
       "0      600088  20070406  2006-12-31\n",
       "1         607  20070421  2006-12-31\n",
       "2      600320  20070519  2006-12-31"
      ]
     },
     "execution_count": 101,
     "metadata": {},
     "output_type": "execute_result"
    }
   ],
   "source": [
    "pre[:3]"
   ]
  },
  {
   "cell_type": "code",
   "execution_count": 102,
   "metadata": {},
   "outputs": [
    {
     "data": {
      "text/html": [
       "<div>\n",
       "<style scoped>\n",
       "    .dataframe tbody tr th:only-of-type {\n",
       "        vertical-align: middle;\n",
       "    }\n",
       "\n",
       "    .dataframe tbody tr th {\n",
       "        vertical-align: top;\n",
       "    }\n",
       "\n",
       "    .dataframe thead th {\n",
       "        text-align: right;\n",
       "    }\n",
       "</style>\n",
       "<table border=\"1\" class=\"dataframe\">\n",
       "  <thead>\n",
       "    <tr style=\"text-align: right;\">\n",
       "      <th></th>\n",
       "      <th>stocknumber</th>\n",
       "      <th>time</th>\n",
       "      <th>year</th>\n",
       "    </tr>\n",
       "  </thead>\n",
       "  <tbody>\n",
       "    <tr>\n",
       "      <th>174</th>\n",
       "      <td>600153</td>\n",
       "      <td>20010809</td>\n",
       "      <td>2000-12-31</td>\n",
       "    </tr>\n",
       "    <tr>\n",
       "      <th>175</th>\n",
       "      <td>750</td>\n",
       "      <td>20061213</td>\n",
       "      <td>2005-12-31</td>\n",
       "    </tr>\n",
       "    <tr>\n",
       "      <th>176</th>\n",
       "      <td>835</td>\n",
       "      <td>20070216</td>\n",
       "      <td>2006-12-31</td>\n",
       "    </tr>\n",
       "    <tr>\n",
       "      <th>177</th>\n",
       "      <td>605</td>\n",
       "      <td>20070312</td>\n",
       "      <td>2006-12-31</td>\n",
       "    </tr>\n",
       "    <tr>\n",
       "      <th>178</th>\n",
       "      <td>600477</td>\n",
       "      <td>20070313</td>\n",
       "      <td>2006-12-31</td>\n",
       "    </tr>\n",
       "  </tbody>\n",
       "</table>\n",
       "</div>"
      ],
      "text/plain": [
       "    stocknumber      time        year\n",
       "174      600153  20010809  2000-12-31\n",
       "175         750  20061213  2005-12-31\n",
       "176         835  20070216  2006-12-31\n",
       "177         605  20070312  2006-12-31\n",
       "178      600477  20070313  2006-12-31"
      ]
     },
     "execution_count": 102,
     "metadata": {},
     "output_type": "execute_result"
    }
   ],
   "source": [
    "beh[:5]"
   ]
  },
  {
   "cell_type": "code",
   "execution_count": 103,
   "metadata": {},
   "outputs": [],
   "source": [
    "del pre['time']\n",
    "del beh['time']"
   ]
  },
  {
   "cell_type": "markdown",
   "metadata": {},
   "source": [
    "以上处理的为 股票代码与对应时间.xls 这个文件.一下处理那十个文件。"
   ]
  },
  {
   "cell_type": "markdown",
   "metadata": {},
   "source": [
    "1.对于有Typrep（也就是分A,B的股）如下操作。"
   ]
  },
  {
   "cell_type": "code",
   "execution_count": 104,
   "metadata": {},
   "outputs": [],
   "source": [
    "f1=pd.read_table(\"FI_T1.txt\",sep='\\t',engine='python')"
   ]
  },
  {
   "cell_type": "code",
   "execution_count": 105,
   "metadata": {},
   "outputs": [],
   "source": [
    "f1['Typrep']=f1['Typrep'].astype(str).str.strip()\n",
    "f1['Stkcd']= f1['Stkcd'].astype(str).str.strip()\n",
    "f1['Accper']=f1['Accper'].astype(str).str.strip()"
   ]
  },
  {
   "cell_type": "code",
   "execution_count": 106,
   "metadata": {},
   "outputs": [],
   "source": [
    "a=f1.loc[f1['Typrep']=='A',:]\n",
    "b=f1.loc[f1['Typrep']=='B',:]"
   ]
  },
  {
   "cell_type": "markdown",
   "metadata": {},
   "source": [
    "先定义两个空的数据框，A和B。"
   ]
  },
  {
   "cell_type": "code",
   "execution_count": 107,
   "metadata": {},
   "outputs": [],
   "source": [
    "A=pd.DataFrame()\n",
    "B=pd.DataFrame()"
   ]
  },
  {
   "cell_type": "code",
   "execution_count": 108,
   "metadata": {},
   "outputs": [],
   "source": [
    "A['Stkcd']=a['Stkcd']\n",
    "B['Stkcd']=b['Stkcd']"
   ]
  },
  {
   "cell_type": "code",
   "execution_count": 109,
   "metadata": {},
   "outputs": [],
   "source": [
    "A['Accper']=a['Accper']\n",
    "B['Accper']=b['Accper']"
   ]
  },
  {
   "cell_type": "code",
   "execution_count": 110,
   "metadata": {},
   "outputs": [],
   "source": [
    "f2=pd.read_table(\"FI_T2.txt\",sep='\\t',engine='python')"
   ]
  },
  {
   "cell_type": "code",
   "execution_count": 111,
   "metadata": {},
   "outputs": [],
   "source": [
    "general=pd.DataFrame()\n",
    "general['Stkcd']=f2['Stkcd']"
   ]
  },
  {
   "cell_type": "code",
   "execution_count": 112,
   "metadata": {},
   "outputs": [],
   "source": [
    "general['Accper']=f2['Accper']"
   ]
  },
  {
   "cell_type": "code",
   "execution_count": 113,
   "metadata": {},
   "outputs": [],
   "source": [
    "general['Accper']=f2['Accper'].str.strip()"
   ]
  },
  {
   "cell_type": "code",
   "execution_count": 114,
   "metadata": {},
   "outputs": [],
   "source": [
    "general['Accper']=f2['Accper'].str.strip().astype(str)"
   ]
  },
  {
   "cell_type": "code",
   "execution_count": 115,
   "metadata": {
    "scrolled": true
   },
   "outputs": [],
   "source": [
    "general['Stkcd']=f2['Stkcd'].astype(str)\n",
    "A['Stkcd']=a['Stkcd'].astype(str)\n",
    "B['Stkcd']=b['Stkcd'].astype(str)\n",
    "B['Accper']=b['Accper'].astype(str)\n",
    "A['Accper']=a['Accper'].astype(str)"
   ]
  },
  {
   "cell_type": "code",
   "execution_count": 116,
   "metadata": {},
   "outputs": [
    {
     "data": {
      "text/html": [
       "<div>\n",
       "<style scoped>\n",
       "    .dataframe tbody tr th:only-of-type {\n",
       "        vertical-align: middle;\n",
       "    }\n",
       "\n",
       "    .dataframe tbody tr th {\n",
       "        vertical-align: top;\n",
       "    }\n",
       "\n",
       "    .dataframe thead th {\n",
       "        text-align: right;\n",
       "    }\n",
       "</style>\n",
       "<table border=\"1\" class=\"dataframe\">\n",
       "  <thead>\n",
       "    <tr style=\"text-align: right;\">\n",
       "      <th></th>\n",
       "      <th>Stkcd</th>\n",
       "      <th>Accper</th>\n",
       "    </tr>\n",
       "  </thead>\n",
       "  <tbody>\n",
       "    <tr>\n",
       "      <th>0</th>\n",
       "      <td>4</td>\n",
       "      <td>2018-03-31</td>\n",
       "    </tr>\n",
       "    <tr>\n",
       "      <th>2</th>\n",
       "      <td>4</td>\n",
       "      <td>2017-12-31</td>\n",
       "    </tr>\n",
       "    <tr>\n",
       "      <th>4</th>\n",
       "      <td>4</td>\n",
       "      <td>2017-09-30</td>\n",
       "    </tr>\n",
       "    <tr>\n",
       "      <th>6</th>\n",
       "      <td>4</td>\n",
       "      <td>2017-06-30</td>\n",
       "    </tr>\n",
       "    <tr>\n",
       "      <th>8</th>\n",
       "      <td>4</td>\n",
       "      <td>2017-03-31</td>\n",
       "    </tr>\n",
       "  </tbody>\n",
       "</table>\n",
       "</div>"
      ],
      "text/plain": [
       "  Stkcd      Accper\n",
       "0     4  2018-03-31\n",
       "2     4  2017-12-31\n",
       "4     4  2017-09-30\n",
       "6     4  2017-06-30\n",
       "8     4  2017-03-31"
      ]
     },
     "execution_count": 116,
     "metadata": {},
     "output_type": "execute_result"
    }
   ],
   "source": [
    "A[:5]"
   ]
  },
  {
   "cell_type": "code",
   "execution_count": 117,
   "metadata": {},
   "outputs": [
    {
     "data": {
      "text/plain": [
       "pandas.core.frame.DataFrame"
      ]
     },
     "execution_count": 117,
     "metadata": {},
     "output_type": "execute_result"
    }
   ],
   "source": [
    "type(A)"
   ]
  },
  {
   "cell_type": "code",
   "execution_count": 118,
   "metadata": {},
   "outputs": [],
   "source": [
    "for i in range(1,10):\n",
    "\tf=pd.read_table(\"FI_T\"+str(i)+\".txt\",sep=\"\\t\",engine=\"python\")\n",
    "\tdel f['Indcd']\n",
    "\tf['Stkcd']=f['Stkcd'].astype(str)\n",
    "\tif ('Typrep' in f.columns):\n",
    "\t\tf['Typrep']=f['Typrep'].astype(str)\n",
    "\t\ta=f.loc[f['Typrep']=='A',:]\n",
    "\t\tb=f.loc[f['Typrep']=='B',:]\n",
    "\t\tdel a['Typrep']\n",
    "\t\tdel b['Typrep']\n",
    "\t\tA=pd.merge(A,a,on=['Stkcd','Accper'],how='outer')\n",
    "\t\tB=pd.merge(B,b,on=['Stkcd','Accper'],how='outer')\n",
    "\telse:\n",
    "\t\tgeneral=pd.merge(general,f,on=['Stkcd','Accper'])"
   ]
  },
  {
   "cell_type": "code",
   "execution_count": 119,
   "metadata": {},
   "outputs": [
    {
     "data": {
      "text/plain": [
       "(15860, 377)"
      ]
     },
     "execution_count": 119,
     "metadata": {},
     "output_type": "execute_result"
    }
   ],
   "source": [
    "A.shape#15860行 377列"
   ]
  },
  {
   "cell_type": "code",
   "execution_count": 120,
   "metadata": {},
   "outputs": [
    {
     "data": {
      "text/plain": [
       "(14422, 377)"
      ]
     },
     "execution_count": 120,
     "metadata": {},
     "output_type": "execute_result"
    }
   ],
   "source": [
    "B.shape"
   ]
  },
  {
   "cell_type": "code",
   "execution_count": 121,
   "metadata": {},
   "outputs": [
    {
     "data": {
      "text/plain": [
       "(12166, 11)"
      ]
     },
     "execution_count": 121,
     "metadata": {},
     "output_type": "execute_result"
    }
   ],
   "source": [
    "general.shape"
   ]
  },
  {
   "cell_type": "markdown",
   "metadata": {},
   "source": [
    "以上：A数据框是所有Typrep为A的集合，B数据框是所有Typrep为B的集合，general是没有A，B的文件的集合。\n",
    "下面将A和general，B和general融合，以上一下都取并集，会有好多na。"
   ]
  },
  {
   "cell_type": "code",
   "execution_count": 122,
   "metadata": {},
   "outputs": [
    {
     "data": {
      "text/plain": [
       "Index(['Stkcd', 'Accper', 'F010101A', 'F010201A', 'F010301A', 'F010401A',\n",
       "       'F010501A', 'F010601A', 'F010701B', 'F010702B',\n",
       "       ...\n",
       "       'F092002B', 'F092002C', 'F092102B', 'F092102C', 'F092202B', 'F092202C',\n",
       "       'F092302B', 'F092302C', 'F092103B', 'F092103C'],\n",
       "      dtype='object', length=377)"
      ]
     },
     "execution_count": 122,
     "metadata": {},
     "output_type": "execute_result"
    }
   ],
   "source": [
    "A.columns"
   ]
  },
  {
   "cell_type": "code",
   "execution_count": 123,
   "metadata": {
    "scrolled": true
   },
   "outputs": [
    {
     "name": "stdout",
     "output_type": "stream",
     "text": [
      "Stkcd\tAccper\tF010101A\tF010201A\tF010301A\tF010401A\tF010501A\tF010601A\tF010701B\tF010702B\tF010801B\tF010901B\tF011001B\tF011201A\tF011301A\tF011401A\tF011501A\tF011601A\tF011701A\tF011801A\tF011901A\tF012001A\tF012101A\tF012201B\tF012301B\tF012401B\tF012501B\tF012601B\tF012701B\tF030101A\tF030201A\tF030301A\tF030401A\tF030501A\tF030601A\tF030701A\tF030801A\tF030901A\tF031001A\tF031101A\tF031201A\tF031301A\tF031401A\tF031501A\tF031601A\tF031701A\tF031801A\tF031901A\tF032001A\tF032101B\tF032201B\tF032301B\tF032401B\tF032501B\tF032601B\tF032701B\tF032801B\tF032901B\tF033001B\tF033101B\tF033201B\tF033301B\tF033401B\tF033501A\tF040101B\tF040201B\tF040202B\tF040203B\tF040204B\tF040205C\tF040301B\tF040302B\tF040303B\tF040304C\tF040401B\tF040501B\tF040502B\tF040503B\tF040504B\tF040505C\tF040601B\tF040602B\tF040603B\tF040604C\tF040701B\tF040702B\tF040703B\tF040704C\tF040801B\tF040802B\tF040803B\tF040804B\tF040805C\tF040901B\tF040902B\tF040903B\tF040904B\tF040905C\tF041001B\tF041002B\tF041003B\tF041004B\tF041005C\tF041101B\tF041201B\tF041202B\tF041203B\tF041204B\tF041205C\tF041301B\tF041401B\tF041402B\tF041403B\tF041404B\tF041405C\tF041501B\tF041502B\tF041503B\tF041504B\tF041505C\tF041601B\tF041701B\tF041702B\tF041703B\tF041704B\tF041705C\tF041801B\tF041802B\tF041803B\tF041804B\tF041805C\tF050101B\tF050102B\tF050103B\tF050104C\tF050201B\tF050202B\tF050203B\tF050204C\tF050301B\tF050302B\tF050303B\tF050304C\tF050401B\tF050402B\tF050403B\tF050404C\tF050501B\tF050502B\tF050503B\tF050504C\tF050601B\tF050601C\tF050701B\tF050801B\tF050801C\tF050901B\tF051001B\tF051101B\tF051201B\tF053201B\tF053301B\tF053301C\tF051301B\tF051301C\tF051401B\tF051401C\tF051501B\tF051501C\tF051601B\tF051601C\tF051701B\tF051701C\tF051801B\tF051801C\tF051901B\tF051901C\tF052001B\tF052001C\tF052101B\tF052101C\tF052201B\tF052201C\tF052301B\tF052301C\tF052401B\tF052401C\tF052901B\tF052901C\tF053001B\tF053002B\tF053003B\tF053004C\tF053101B\tF053102B\tF053103B\tF053104C\tF053202B\tF060101B\tF060101C\tF060201B\tF060201C\tF060301B\tF060301C\tF060401B\tF060401C\tF060901B\tF060901C\tF061001B\tF061001C\tF061201B\tF061201C\tF061301B\tF061302B\tF061301C\tF061302C\tF061401B\tF061402B\tF061401C\tF061402C\tF061501B\tF061601B\tF061701B\tF061801B\tF061901B\tF062001B\tF062101B\tF062201B\tF062301B\tF062401B\tF070101B\tF070201B\tF070301B\tF080101A\tF080102A\tF080201A\tF080301A\tF080302A\tF080401A\tF080501A\tF080502A\tF080601A\tF080602A\tF080701B\tF080702B\tF080801B\tF080802B\tF080901B\tF080902B\tF081001B\tF081002B\tF081101B\tF081102B\tF081201B\tF081202B\tF081301B\tF081401B\tF081501B\tF081601B\tF081602C\tF081701B\tF081801B\tF081901B\tF082001B\tF082101B\tF082201B\tF082202B\tF082301B\tF082302B\tF082401B\tF082402B\tF082501B\tF082502B\tF082601B\tF082701A\tF082702A\tF082801A\tF082802A\tF082703A\tF082803A\tF080703B\tF081003B\tF081603B\tF080603A\tF081103B\tF080503A\tF080803B\tF081203B\tF082602B\tF090101B\tF090101C\tF090102B\tF090102C\tF090103B\tF090103C\tF090104B\tF090104C\tF090201B\tF090201C\tF090202B\tF090202C\tF090301B\tF090301C\tF090401B\tF090401C\tF090501B\tF090501C\tF090601B\tF090601C\tF090701B\tF090701C\tF090801B\tF090801C\tF090901B\tF090901C\tF091001A\tF091101A\tF091201A\tF091301A\tF091401A\tF091501A\tF091601A\tF091701A\tF091801B\tF091801C\tF091901B\tF091901C\tF092001B\tF092001C\tF092101B\tF092101C\tF092201B\tF092201C\tF092301B\tF092301C\tF092401B\tF092501B\tF092601B\tF092601C\tF092602B\tF092602C\tF090302B\tF090302C\tF090402B\tF090402C\tF090502B\tF090502C\tF090602B\tF090602C\tF090702B\tF090702C\tF090802B\tF090802C\tF090902B\tF090902C\tF091002A\tF091102A\tF091202A\tF091302A\tF091402A\tF091502A\tF091602A\tF091702A\tF091802B\tF091802C\tF091902B\tF091902C\tF092002B\tF092002C\tF092102B\tF092102C\tF092202B\tF092202C\tF092302B\tF092302C\tF092103B\tF092103C\t"
     ]
    }
   ],
   "source": [
    "for i in A.columns:\n",
    "\tprint(str(i)+\"\\t\",end=\"\")"
   ]
  },
  {
   "cell_type": "markdown",
   "metadata": {},
   "source": [
    "以上为A所有的列名。"
   ]
  },
  {
   "cell_type": "code",
   "execution_count": 124,
   "metadata": {},
   "outputs": [],
   "source": [
    "alla=pd.merge(A,general,on=['Stkcd','Accper'],how='outer')\n",
    "allb=pd.merge(B,general,on=['Stkcd','Accper'],how='outer')"
   ]
  },
  {
   "cell_type": "code",
   "execution_count": 125,
   "metadata": {},
   "outputs": [
    {
     "data": {
      "text/plain": [
       "(15860, 386)"
      ]
     },
     "execution_count": 125,
     "metadata": {},
     "output_type": "execute_result"
    }
   ],
   "source": [
    "alla.shape"
   ]
  },
  {
   "cell_type": "code",
   "execution_count": 126,
   "metadata": {},
   "outputs": [
    {
     "data": {
      "text/plain": [
       "(14594, 386)"
      ]
     },
     "execution_count": 126,
     "metadata": {},
     "output_type": "execute_result"
    }
   ],
   "source": [
    "allb.shape"
   ]
  },
  {
   "cell_type": "code",
   "execution_count": 127,
   "metadata": {},
   "outputs": [
    {
     "data": {
      "text/html": [
       "<div>\n",
       "<style scoped>\n",
       "    .dataframe tbody tr th:only-of-type {\n",
       "        vertical-align: middle;\n",
       "    }\n",
       "\n",
       "    .dataframe tbody tr th {\n",
       "        vertical-align: top;\n",
       "    }\n",
       "\n",
       "    .dataframe thead th {\n",
       "        text-align: right;\n",
       "    }\n",
       "</style>\n",
       "<table border=\"1\" class=\"dataframe\">\n",
       "  <thead>\n",
       "    <tr style=\"text-align: right;\">\n",
       "      <th></th>\n",
       "      <th>Stkcd</th>\n",
       "      <th>Accper</th>\n",
       "      <th>F010101A</th>\n",
       "      <th>F010201A</th>\n",
       "      <th>F010301A</th>\n",
       "      <th>F010401A</th>\n",
       "      <th>F010501A</th>\n",
       "      <th>F010601A</th>\n",
       "      <th>F010701B</th>\n",
       "      <th>F010702B</th>\n",
       "      <th>...</th>\n",
       "      <th>F092103C</th>\n",
       "      <th>F020101</th>\n",
       "      <th>F020102</th>\n",
       "      <th>F020103</th>\n",
       "      <th>F020104</th>\n",
       "      <th>F020105</th>\n",
       "      <th>F020106</th>\n",
       "      <th>F020107</th>\n",
       "      <th>F020108</th>\n",
       "      <th>F020109</th>\n",
       "    </tr>\n",
       "  </thead>\n",
       "  <tbody>\n",
       "    <tr>\n",
       "      <th>0</th>\n",
       "      <td>4</td>\n",
       "      <td>2018-03-31</td>\n",
       "      <td>2.155549</td>\n",
       "      <td>2.011670</td>\n",
       "      <td>1.754348</td>\n",
       "      <td>1.560092</td>\n",
       "      <td>NaN</td>\n",
       "      <td>1.003415e+08</td>\n",
       "      <td>-10.010703</td>\n",
       "      <td>-8.673935</td>\n",
       "      <td>...</td>\n",
       "      <td>-0.512289</td>\n",
       "      <td>1764625.00</td>\n",
       "      <td>295887.89</td>\n",
       "      <td>1.58</td>\n",
       "      <td>NaN</td>\n",
       "      <td>0.0035</td>\n",
       "      <td>NaN</td>\n",
       "      <td>NaN</td>\n",
       "      <td>0.0245</td>\n",
       "      <td>0.0245</td>\n",
       "    </tr>\n",
       "    <tr>\n",
       "      <th>1</th>\n",
       "      <td>4</td>\n",
       "      <td>2017-12-31</td>\n",
       "      <td>2.068985</td>\n",
       "      <td>1.857892</td>\n",
       "      <td>1.639933</td>\n",
       "      <td>1.424039</td>\n",
       "      <td>NaN</td>\n",
       "      <td>7.513941e+07</td>\n",
       "      <td>-6.522223</td>\n",
       "      <td>-3.561629</td>\n",
       "      <td>...</td>\n",
       "      <td>0.391137</td>\n",
       "      <td>11575951.17</td>\n",
       "      <td>-3009230.52</td>\n",
       "      <td>6.41</td>\n",
       "      <td>-2.25</td>\n",
       "      <td>-0.0358</td>\n",
       "      <td>NaN</td>\n",
       "      <td>NaN</td>\n",
       "      <td>0.1020</td>\n",
       "      <td>0.1020</td>\n",
       "    </tr>\n",
       "    <tr>\n",
       "      <th>2</th>\n",
       "      <td>4</td>\n",
       "      <td>2017-09-30</td>\n",
       "      <td>2.535571</td>\n",
       "      <td>2.342521</td>\n",
       "      <td>2.015749</td>\n",
       "      <td>1.946468</td>\n",
       "      <td>NaN</td>\n",
       "      <td>9.333296e+07</td>\n",
       "      <td>11.449100</td>\n",
       "      <td>11.473436</td>\n",
       "      <td>...</td>\n",
       "      <td>-0.047750</td>\n",
       "      <td>122154.49</td>\n",
       "      <td>-5556412.49</td>\n",
       "      <td>-4.60</td>\n",
       "      <td>NaN</td>\n",
       "      <td>-0.0662</td>\n",
       "      <td>NaN</td>\n",
       "      <td>NaN</td>\n",
       "      <td>-0.0647</td>\n",
       "      <td>-0.0647</td>\n",
       "    </tr>\n",
       "  </tbody>\n",
       "</table>\n",
       "<p>3 rows × 386 columns</p>\n",
       "</div>"
      ],
      "text/plain": [
       "  Stkcd      Accper  F010101A  F010201A  F010301A  F010401A  F010501A  \\\n",
       "0     4  2018-03-31  2.155549  2.011670  1.754348  1.560092       NaN   \n",
       "1     4  2017-12-31  2.068985  1.857892  1.639933  1.424039       NaN   \n",
       "2     4  2017-09-30  2.535571  2.342521  2.015749  1.946468       NaN   \n",
       "\n",
       "       F010601A   F010701B   F010702B   ...     F092103C      F020101  \\\n",
       "0  1.003415e+08 -10.010703  -8.673935   ...    -0.512289   1764625.00   \n",
       "1  7.513941e+07  -6.522223  -3.561629   ...     0.391137  11575951.17   \n",
       "2  9.333296e+07  11.449100  11.473436   ...    -0.047750    122154.49   \n",
       "\n",
       "      F020102  F020103  F020104  F020105  F020106  F020107  F020108  F020109  \n",
       "0   295887.89     1.58      NaN   0.0035      NaN      NaN   0.0245   0.0245  \n",
       "1 -3009230.52     6.41    -2.25  -0.0358      NaN      NaN   0.1020   0.1020  \n",
       "2 -5556412.49    -4.60      NaN  -0.0662      NaN      NaN  -0.0647  -0.0647  \n",
       "\n",
       "[3 rows x 386 columns]"
      ]
     },
     "execution_count": 127,
     "metadata": {},
     "output_type": "execute_result"
    }
   ],
   "source": [
    "alla[:3]"
   ]
  },
  {
   "cell_type": "code",
   "execution_count": 128,
   "metadata": {},
   "outputs": [],
   "source": [
    "pre_a=pd.merge(pre,alla,how='inner',left_on=['stocknumber','year'],right_on=['Stkcd','Accper'])"
   ]
  },
  {
   "cell_type": "code",
   "execution_count": 129,
   "metadata": {},
   "outputs": [],
   "source": [
    "pre_b=pd.merge(pre,allb,how='inner',left_on=['stocknumber','year'],right_on=['Stkcd','Accper'])"
   ]
  },
  {
   "cell_type": "code",
   "execution_count": 130,
   "metadata": {},
   "outputs": [],
   "source": [
    "beh_a=pd.merge(beh,alla,how='inner',left_on=['stocknumber','year'],right_on=['Stkcd','Accper'])"
   ]
  },
  {
   "cell_type": "code",
   "execution_count": 131,
   "metadata": {},
   "outputs": [],
   "source": [
    "beh_b=pd.merge(beh,allb,how='inner',left_on=['stocknumber','year'],right_on=['Stkcd','Accper'])"
   ]
  },
  {
   "cell_type": "code",
   "execution_count": 132,
   "metadata": {},
   "outputs": [
    {
     "name": "stdout",
     "output_type": "stream",
     "text": [
      "(167, 388)\t(168, 388)\t(167, 388)\t(168, 388)\n"
     ]
    }
   ],
   "source": [
    "print(str(pre_a.shape)+\"\\t\"+str(pre_b.shape)+\"\\t\"+str(pre_a.shape)+\"\\t\"+str(pre_b.shape))"
   ]
  },
  {
   "cell_type": "markdown",
   "metadata": {},
   "source": [
    "差球不多就这四个文件。"
   ]
  },
  {
   "cell_type": "code",
   "execution_count": 133,
   "metadata": {},
   "outputs": [],
   "source": [
    "pre_a.to_csv(\"pre_a.txt\",sep=\"\\t\",header=True,index=False)"
   ]
  },
  {
   "cell_type": "code",
   "execution_count": 134,
   "metadata": {},
   "outputs": [],
   "source": [
    "pre_b.to_csv(\"pre_b.txt\",sep=\"\\t\",header=True,index=False)\n",
    "beh_a.to_csv(\"beh_a.txt\",sep=\"\\t\",header=True,index=False)\n",
    "beh_b.to_csv(\"beh_b.txt\",sep=\"\\t\",header=True,index=False)"
   ]
  },
  {
   "cell_type": "markdown",
   "metadata": {},
   "source": [
    "股票代码与对应时间.xls这个文件有366行，_a有168行，_b有167行，一共335行，剩下31行应该就是没找到。"
   ]
  },
  {
   "cell_type": "code",
   "execution_count": 135,
   "metadata": {},
   "outputs": [],
   "source": [
    "sourcetime=pre['year'].append(beh['year'])"
   ]
  },
  {
   "cell_type": "code",
   "execution_count": 136,
   "metadata": {},
   "outputs": [],
   "source": [
    "sourcenum=pre['stocknumber'].append(beh['stocknumber'])"
   ]
  },
  {
   "cell_type": "code",
   "execution_count": 137,
   "metadata": {},
   "outputs": [],
   "source": [
    "import collections"
   ]
  },
  {
   "cell_type": "code",
   "execution_count": 138,
   "metadata": {},
   "outputs": [],
   "source": [
    "card=collections.namedtuple('card',['Stkcd','Accper'])"
   ]
  },
  {
   "cell_type": "code",
   "execution_count": 139,
   "metadata": {},
   "outputs": [],
   "source": [
    "source=card(sourcenum,sourcetime)"
   ]
  },
  {
   "cell_type": "code",
   "execution_count": 140,
   "metadata": {},
   "outputs": [],
   "source": [
    "laternum=pre_a['Stkcd'].append(pre_b['Stkcd'])"
   ]
  },
  {
   "cell_type": "code",
   "execution_count": 141,
   "metadata": {},
   "outputs": [],
   "source": [
    "latertime=pre_a['Accper'].append(pre_b['Accper'])"
   ]
  },
  {
   "cell_type": "code",
   "execution_count": 142,
   "metadata": {},
   "outputs": [],
   "source": [
    "later=card(laternum,latertime)"
   ]
  },
  {
   "cell_type": "code",
   "execution_count": 143,
   "metadata": {},
   "outputs": [],
   "source": [
    "so=sourcetime.astype(str)+\" \"+sourcenum.astype(str)"
   ]
  },
  {
   "cell_type": "code",
   "execution_count": 144,
   "metadata": {},
   "outputs": [],
   "source": [
    "la=latertime.astype(str)+\" \"+laternum.astype(str)"
   ]
  },
  {
   "cell_type": "code",
   "execution_count": 145,
   "metadata": {},
   "outputs": [],
   "source": [
    "so=pd.Index(la)"
   ]
  },
  {
   "cell_type": "code",
   "execution_count": 146,
   "metadata": {},
   "outputs": [],
   "source": [
    "la=pd.Index(la)"
   ]
  },
  {
   "cell_type": "code",
   "execution_count": 152,
   "metadata": {},
   "outputs": [],
   "source": [
    "re=so.difference(la)"
   ]
  },
  {
   "cell_type": "code",
   "execution_count": 153,
   "metadata": {},
   "outputs": [
    {
     "data": {
      "text/plain": [
       "(0,)"
      ]
     },
     "execution_count": 153,
     "metadata": {},
     "output_type": "execute_result"
    }
   ],
   "source": [
    "re.shape"
   ]
  },
  {
   "cell_type": "code",
   "execution_count": 149,
   "metadata": {},
   "outputs": [
    {
     "data": {
      "text/plain": [
       "Index([], dtype='object')"
      ]
     },
     "execution_count": 149,
     "metadata": {},
     "output_type": "execute_result"
    }
   ],
   "source": [
    "re"
   ]
  },
  {
   "cell_type": "code",
   "execution_count": 150,
   "metadata": {},
   "outputs": [
    {
     "data": {
      "text/plain": [
       "Index(['2006-12-31 600088', '2006-12-31 607', '2006-12-31 600320',\n",
       "       '2006-12-31 600743', '2006-12-31 600187', '2007-12-31 990',\n",
       "       '2007-12-31 600491', '2008-12-31 2138', '2008-12-31 600549',\n",
       "       '2008-12-31 600323',\n",
       "       ...\n",
       "       '2013-12-31 600847', '2013-12-31 600113', '2013-12-31 889',\n",
       "       '2013-12-31 600850', '2014-12-31 2264', '2014-12-31 600392',\n",
       "       '2014-12-31 300350', '2014-12-31 502', '2014-12-31 2419',\n",
       "       '2015-12-31 520'],\n",
       "      dtype='object', length=335)"
      ]
     },
     "execution_count": 150,
     "metadata": {},
     "output_type": "execute_result"
    }
   ],
   "source": [
    "so"
   ]
  },
  {
   "cell_type": "code",
   "execution_count": 151,
   "metadata": {},
   "outputs": [
    {
     "data": {
      "text/plain": [
       "0      600088\n",
       "1         607\n",
       "2      600320\n",
       "3      600743\n",
       "4      600187\n",
       "5         990\n",
       "6      600491\n",
       "7        2138\n",
       "8      600549\n",
       "9      600323\n",
       "10       2328\n",
       "11     600836\n",
       "12        962\n",
       "13       2088\n",
       "14     601177\n",
       "15       2259\n",
       "16     600848\n",
       "17     600520\n",
       "18     600586\n",
       "19     300036\n",
       "20     601727\n",
       "21     601877\n",
       "22       2050\n",
       "23       2349\n",
       "24     600068\n",
       "25        889\n",
       "26     600633\n",
       "27     601012\n",
       "28        990\n",
       "29       2281\n",
       "        ...  \n",
       "336    300191\n",
       "337      2211\n",
       "338      2018\n",
       "339      2476\n",
       "340    600645\n",
       "341    600429\n",
       "342    300116\n",
       "343    300360\n",
       "344      2131\n",
       "345    600172\n",
       "346      2566\n",
       "347      2290\n",
       "348    600764\n",
       "349      2297\n",
       "350      2016\n",
       "351    600396\n",
       "352    300050\n",
       "353       592\n",
       "354    300181\n",
       "355       498\n",
       "356    600777\n",
       "357      2426\n",
       "358       609\n",
       "359    601010\n",
       "360    603606\n",
       "361    600179\n",
       "362    600289\n",
       "363    600739\n",
       "364    600219\n",
       "365    601880\n",
       "Name: stocknumber, Length: 366, dtype: object"
      ]
     },
     "execution_count": 151,
     "metadata": {},
     "output_type": "execute_result"
    }
   ],
   "source": [
    "sourcenum.astype(str)"
   ]
  },
  {
   "cell_type": "code",
   "execution_count": null,
   "metadata": {},
   "outputs": [],
   "source": []
  },
  {
   "cell_type": "code",
   "execution_count": null,
   "metadata": {},
   "outputs": [],
   "source": []
  },
  {
   "cell_type": "code",
   "execution_count": null,
   "metadata": {},
   "outputs": [],
   "source": []
  },
  {
   "cell_type": "code",
   "execution_count": null,
   "metadata": {},
   "outputs": [],
   "source": []
  }
 ],
 "metadata": {
  "kernelspec": {
   "display_name": "Python 3",
   "language": "python",
   "name": "python3"
  },
  "language_info": {
   "codemirror_mode": {
    "name": "ipython",
    "version": 3
   },
   "file_extension": ".py",
   "mimetype": "text/x-python",
   "name": "python",
   "nbconvert_exporter": "python",
   "pygments_lexer": "ipython3",
   "version": "3.6.5"
  }
 },
 "nbformat": 4,
 "nbformat_minor": 2
}
